{
 "cells": [
  {
   "cell_type": "code",
   "execution_count": 1,
   "metadata": {
    "collapsed": true
   },
   "outputs": [
    {
     "data": {
      "text/plain": "'196\\t242\\t3\\t881250949'"
     },
     "execution_count": 1,
     "metadata": {},
     "output_type": "execute_result"
    }
   ],
   "source": [
    "from pyspark import SparkContext\n",
    "from pyspark import SparkConf\n",
    "\n",
    "sc = SparkContext(\"local\", \"testing\")\n",
    "user_data = sc.textFile(\"../Recommendation/ml-100k/u.data\")\n",
    "user_data.first()"
   ]
  },
  {
   "cell_type": "code",
   "execution_count": 2,
   "outputs": [
    {
     "name": "stdout",
     "output_type": "stream",
     "text": [
      "['196', '242', '3']\n"
     ]
    }
   ],
   "source": [
    "rates = user_data.map(lambda x: x.split(\"\\t\")[0:3])\n",
    "print(rates.first())"
   ],
   "metadata": {
    "collapsed": false,
    "pycharm": {
     "name": "#%%\n"
    }
   }
  },
  {
   "cell_type": "code",
   "execution_count": 3,
   "outputs": [
    {
     "name": "stdout",
     "output_type": "stream",
     "text": [
      "Rating(user=196, product=242, rating=3.0)\n"
     ]
    }
   ],
   "source": [
    "from pyspark.mllib.recommendation import Rating\n",
    "rates_data = rates.map(lambda x: Rating(int(x[0]),int(x[1]),int(x[2])))\n",
    "print(rates_data.first())"
   ],
   "metadata": {
    "collapsed": false,
    "pycharm": {
     "name": "#%%\n"
    }
   }
  },
  {
   "cell_type": "code",
   "execution_count": 4,
   "outputs": [],
   "source": [
    "from  pyspark.mllib.recommendation import ALS\n",
    "from pyspark.mllib.recommendation import MatrixFactorizationModel\n",
    "sc.setCheckpointDir('checkpoint/')\n",
    "ALS.checkpointInterval = 2\n",
    "model = ALS.train(ratings=rates_data, rank=20, iterations=5, lambda_=0.02)"
   ],
   "metadata": {
    "collapsed": false,
    "pycharm": {
     "name": "#%%\n"
    }
   }
  },
  {
   "cell_type": "code",
   "execution_count": 5,
   "outputs": [
    {
     "name": "stdout",
     "output_type": "stream",
     "text": [
      "4.427744893179508\n",
      "[Rating(user=38, product=842, rating=8.207835381235302), Rating(user=38, product=1053, rating=7.694798336947784), Rating(user=38, product=1446, rating=7.378470138753557), Rating(user=38, product=1136, rating=7.195647065859505), Rating(user=38, product=143, rating=7.023974081309798), Rating(user=38, product=904, rating=6.898661070848144), Rating(user=38, product=707, rating=6.663371840915531), Rating(user=38, product=535, rating=6.423024790607589), Rating(user=38, product=833, rating=6.332466040550812), Rating(user=38, product=634, rating=6.26683864032034)]\n",
      "[Rating(user=78, product=20, rating=6.983138637193454), Rating(user=98, product=20, rating=6.853047951632778), Rating(user=609, product=20, rating=6.247621257385308), Rating(user=590, product=20, rating=6.077151255891279), Rating(user=310, product=20, rating=6.0054453523425), Rating(user=662, product=20, rating=5.782560953181844), Rating(user=14, product=20, rating=5.774585430142781), Rating(user=400, product=20, rating=5.626463516827748), Rating(user=120, product=20, rating=5.576107861476399), Rating(user=523, product=20, rating=5.466371515633359)]\n"
     ]
    }
   ],
   "source": [
    "#  预测用户38对物品20的评分\n",
    "print(model.predict(38,20))\n",
    "#  预测用户38最喜欢的10个物品\n",
    "print(model.recommendProducts(38,10))\n",
    "#  预测下物品20可能最值得推荐的10个用户\n",
    "print(model.recommendUsers(20,10))\n",
    "#  每个用户最值得推荐的三个物品\n",
    "#  print(model.recommendProductsForUsers(3).collect())"
   ],
   "metadata": {
    "collapsed": false,
    "pycharm": {
     "name": "#%%\n"
    }
   }
  }
 ],
 "metadata": {
  "kernelspec": {
   "display_name": "Python 3",
   "language": "python",
   "name": "python3"
  },
  "language_info": {
   "codemirror_mode": {
    "name": "ipython",
    "version": 2
   },
   "file_extension": ".py",
   "mimetype": "text/x-python",
   "name": "python",
   "nbconvert_exporter": "python",
   "pygments_lexer": "ipython2",
   "version": "2.7.6"
  }
 },
 "nbformat": 4,
 "nbformat_minor": 0
}